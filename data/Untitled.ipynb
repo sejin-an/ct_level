{
 "cells": [
  {
   "cell_type": "code",
   "execution_count": 1,
   "id": "26af304c-099f-4763-8d41-191206e9f1f4",
   "metadata": {},
   "outputs": [],
   "source": [
    "import pandas as pd"
   ]
  },
  {
   "cell_type": "code",
   "execution_count": 4,
   "id": "32d746a6-a8f2-4c1b-bdc7-c0740894f860",
   "metadata": {},
   "outputs": [],
   "source": [
    "df_pap = pd.read_excel('paper.xlsx')"
   ]
  },
  {
   "cell_type": "code",
   "execution_count": 3,
   "id": "f9d85b87-d1fc-4067-b861-3a11d72bd005",
   "metadata": {},
   "outputs": [],
   "source": [
    "df_pat = pd.read_excel('patent.xlsx')"
   ]
  },
  {
   "cell_type": "code",
   "execution_count": 9,
   "id": "5f0fb937-edd3-4507-9929-6815ce6f54b6",
   "metadata": {},
   "outputs": [],
   "source": [
    "df_pat.to_pickle('pat_detail.pkl')"
   ]
  },
  {
   "cell_type": "code",
   "execution_count": 10,
   "id": "a6f41423-33af-4b0e-af79-21be888605cc",
   "metadata": {},
   "outputs": [],
   "source": [
    "df_pap.to_pickle('pap_detail.pkl')"
   ]
  },
  {
   "cell_type": "code",
   "execution_count": null,
   "id": "0f2d6a70-9ead-4aa1-90b8-a3106dd583b1",
   "metadata": {},
   "outputs": [],
   "source": []
  }
 ],
 "metadata": {
  "kernelspec": {
   "display_name": "Python 3 (ipykernel)",
   "language": "python",
   "name": "python3"
  },
  "language_info": {
   "codemirror_mode": {
    "name": "ipython",
    "version": 3
   },
   "file_extension": ".py",
   "mimetype": "text/x-python",
   "name": "python",
   "nbconvert_exporter": "python",
   "pygments_lexer": "ipython3",
   "version": "3.12.7"
  }
 },
 "nbformat": 4,
 "nbformat_minor": 5
}
