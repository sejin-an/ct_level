{
 "cells": [
  {
   "cell_type": "code",
   "execution_count": null,
   "id": "216b0399-5a28-4cc6-933a-454f6d55098d",
   "metadata": {},
   "outputs": [],
   "source": []
  }
 ],
 "metadata": {
  "kernelspec": {
   "display_name": "",
   "name": ""
  },
  "language_info": {
   "name": ""
  }
 },
 "nbformat": 4,
 "nbformat_minor": 5
}
